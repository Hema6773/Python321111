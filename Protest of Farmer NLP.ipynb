{
 "cells": [
  {
   "cell_type": "code",
   "execution_count": 2,
   "metadata": {},
   "outputs": [],
   "source": [
    "import warnings\n",
    "warnings.filterwarnings(\"ignore\")\n",
    "\n",
    "# Start with loading all necessary libraries\n",
    "import numpy as np\n",
    "import pandas as pd\n",
    "from os import path\n",
    "from PIL import Image\n",
    "from wordcloud import WordCloud, STOPWORDS, ImageColorGenerator\n",
    "\n",
    "import matplotlib.pyplot as plt\n",
    "%matplotlib inline"
   ]
  },
  {
   "cell_type": "code",
   "execution_count": 3,
   "metadata": {},
   "outputs": [],
   "source": [
    "import os\n",
    "os.chdir(r\"C:\\Users\\nithi\\Downloads\")"
   ]
  },
  {
   "cell_type": "code",
   "execution_count": 4,
   "metadata": {
    "scrolled": true
   },
   "outputs": [
    {
     "data": {
      "text/html": [
       "<div>\n",
       "<style scoped>\n",
       "    .dataframe tbody tr th:only-of-type {\n",
       "        vertical-align: middle;\n",
       "    }\n",
       "\n",
       "    .dataframe tbody tr th {\n",
       "        vertical-align: top;\n",
       "    }\n",
       "\n",
       "    .dataframe thead th {\n",
       "        text-align: right;\n",
       "    }\n",
       "</style>\n",
       "<table border=\"1\" class=\"dataframe\">\n",
       "  <thead>\n",
       "    <tr style=\"text-align: right;\">\n",
       "      <th></th>\n",
       "      <th>user</th>\n",
       "      <th>location</th>\n",
       "      <th>source</th>\n",
       "      <th>place</th>\n",
       "      <th>created_at</th>\n",
       "      <th>geo_enabled</th>\n",
       "      <th>friends_count</th>\n",
       "      <th>text</th>\n",
       "      <th>retweet_count</th>\n",
       "      <th>retweeted_status</th>\n",
       "    </tr>\n",
       "  </thead>\n",
       "  <tbody>\n",
       "    <tr>\n",
       "      <th>0</th>\n",
       "      <td>BeantMrahar</td>\n",
       "      <td>NaN</td>\n",
       "      <td>Twitter for Android</td>\n",
       "      <td>NaN</td>\n",
       "      <td>2021-04-12 03:13:34</td>\n",
       "      <td>False</td>\n",
       "      <td>63</td>\n",
       "      <td>Today Hashtag \\nRetweet \\n\\n#DelhiPolice_Tortu...</td>\n",
       "      <td>0</td>\n",
       "      <td>False</td>\n",
       "    </tr>\n",
       "    <tr>\n",
       "      <th>1</th>\n",
       "      <td>rumsomal</td>\n",
       "      <td>brampton, universe</td>\n",
       "      <td>Twitter for Android</td>\n",
       "      <td>NaN</td>\n",
       "      <td>2021-04-12 03:13:32</td>\n",
       "      <td>False</td>\n",
       "      <td>1328</td>\n",
       "      <td>Delhi police is the Black Hand of BJP \\n#Delhi...</td>\n",
       "      <td>0</td>\n",
       "      <td>False</td>\n",
       "    </tr>\n",
       "    <tr>\n",
       "      <th>2</th>\n",
       "      <td>rumsomal</td>\n",
       "      <td>brampton, universe</td>\n",
       "      <td>Twitter for Android</td>\n",
       "      <td>NaN</td>\n",
       "      <td>2021-04-12 03:13:21</td>\n",
       "      <td>False</td>\n",
       "      <td>1328</td>\n",
       "      <td>Delhi police is the Black Hand of BJP \\n#Delhi...</td>\n",
       "      <td>0</td>\n",
       "      <td>False</td>\n",
       "    </tr>\n",
       "    <tr>\n",
       "      <th>3</th>\n",
       "      <td>drd_bee</td>\n",
       "      <td>ਮੋਗਾ (ਚੜ੍ਹਦਾ ਪੰਜਾਬ)</td>\n",
       "      <td>Twitter for Android</td>\n",
       "      <td>NaN</td>\n",
       "      <td>2021-04-12 03:13:21</td>\n",
       "      <td>False</td>\n",
       "      <td>628</td>\n",
       "      <td>If we lose this fight, first we will become co...</td>\n",
       "      <td>0</td>\n",
       "      <td>False</td>\n",
       "    </tr>\n",
       "    <tr>\n",
       "      <th>4</th>\n",
       "      <td>__Argha__</td>\n",
       "      <td>NaN</td>\n",
       "      <td>Twitter for Android</td>\n",
       "      <td>NaN</td>\n",
       "      <td>2021-04-12 03:13:18</td>\n",
       "      <td>False</td>\n",
       "      <td>42</td>\n",
       "      <td>'Disgraceful' and 'Discourteous' act of Delhi ...</td>\n",
       "      <td>0</td>\n",
       "      <td>False</td>\n",
       "    </tr>\n",
       "    <tr>\n",
       "      <th>...</th>\n",
       "      <td>...</td>\n",
       "      <td>...</td>\n",
       "      <td>...</td>\n",
       "      <td>...</td>\n",
       "      <td>...</td>\n",
       "      <td>...</td>\n",
       "      <td>...</td>\n",
       "      <td>...</td>\n",
       "      <td>...</td>\n",
       "      <td>...</td>\n",
       "    </tr>\n",
       "    <tr>\n",
       "      <th>995</th>\n",
       "      <td>jaggisandhu4</td>\n",
       "      <td>NaN</td>\n",
       "      <td>Twitter for Android</td>\n",
       "      <td>NaN</td>\n",
       "      <td>2021-04-12 02:21:47</td>\n",
       "      <td>True</td>\n",
       "      <td>193</td>\n",
       "      <td>Yesterday some bhakts were saying \"tu kabhi kh...</td>\n",
       "      <td>1</td>\n",
       "      <td>False</td>\n",
       "    </tr>\n",
       "    <tr>\n",
       "      <th>996</th>\n",
       "      <td>Tractor2twitr</td>\n",
       "      <td>Ludhiana, India</td>\n",
       "      <td>Twitter for iPhone</td>\n",
       "      <td>NaN</td>\n",
       "      <td>2021-04-12 02:21:46</td>\n",
       "      <td>False</td>\n",
       "      <td>135</td>\n",
       "      <td>If @capt_amarinder and @PunjabPoliceInd had ap...</td>\n",
       "      <td>78</td>\n",
       "      <td>False</td>\n",
       "    </tr>\n",
       "    <tr>\n",
       "      <th>997</th>\n",
       "      <td>sumanpreetkaurr</td>\n",
       "      <td>ਅੰਮ੍ਰਿਤਸਰ</td>\n",
       "      <td>Twitter for Android</td>\n",
       "      <td>NaN</td>\n",
       "      <td>2021-04-12 02:21:44</td>\n",
       "      <td>False</td>\n",
       "      <td>671</td>\n",
       "      <td>Support farmers\\nuse MAXIMUM  hashtag \\n\\n#Del...</td>\n",
       "      <td>8</td>\n",
       "      <td>False</td>\n",
       "    </tr>\n",
       "    <tr>\n",
       "      <th>998</th>\n",
       "      <td>NindaBains</td>\n",
       "      <td>Canada</td>\n",
       "      <td>Twitter for Android</td>\n",
       "      <td>NaN</td>\n",
       "      <td>2021-04-12 02:21:44</td>\n",
       "      <td>False</td>\n",
       "      <td>277</td>\n",
       "      <td>Haryana people giving tough to BJP government....</td>\n",
       "      <td>0</td>\n",
       "      <td>False</td>\n",
       "    </tr>\n",
       "    <tr>\n",
       "      <th>999</th>\n",
       "      <td>BhagwantSandh12</td>\n",
       "      <td>NaN</td>\n",
       "      <td>ISupportFarmers</td>\n",
       "      <td>NaN</td>\n",
       "      <td>2021-04-12 02:21:42</td>\n",
       "      <td>False</td>\n",
       "      <td>94</td>\n",
       "      <td>All the tactics used by Delhi police to harm t...</td>\n",
       "      <td>1</td>\n",
       "      <td>False</td>\n",
       "    </tr>\n",
       "  </tbody>\n",
       "</table>\n",
       "<p>1000 rows × 10 columns</p>\n",
       "</div>"
      ],
      "text/plain": [
       "                user             location               source place  \\\n",
       "0        BeantMrahar                  NaN  Twitter for Android   NaN   \n",
       "1           rumsomal   brampton, universe  Twitter for Android   NaN   \n",
       "2           rumsomal   brampton, universe  Twitter for Android   NaN   \n",
       "3            drd_bee  ਮੋਗਾ (ਚੜ੍ਹਦਾ ਪੰਜਾਬ)  Twitter for Android   NaN   \n",
       "4          __Argha__                  NaN  Twitter for Android   NaN   \n",
       "..               ...                  ...                  ...   ...   \n",
       "995     jaggisandhu4                  NaN  Twitter for Android   NaN   \n",
       "996    Tractor2twitr      Ludhiana, India   Twitter for iPhone   NaN   \n",
       "997  sumanpreetkaurr            ਅੰਮ੍ਰਿਤਸਰ  Twitter for Android   NaN   \n",
       "998       NindaBains               Canada  Twitter for Android   NaN   \n",
       "999  BhagwantSandh12                  NaN      ISupportFarmers   NaN   \n",
       "\n",
       "              created_at  geo_enabled  friends_count  \\\n",
       "0    2021-04-12 03:13:34        False             63   \n",
       "1    2021-04-12 03:13:32        False           1328   \n",
       "2    2021-04-12 03:13:21        False           1328   \n",
       "3    2021-04-12 03:13:21        False            628   \n",
       "4    2021-04-12 03:13:18        False             42   \n",
       "..                   ...          ...            ...   \n",
       "995  2021-04-12 02:21:47         True            193   \n",
       "996  2021-04-12 02:21:46        False            135   \n",
       "997  2021-04-12 02:21:44        False            671   \n",
       "998  2021-04-12 02:21:44        False            277   \n",
       "999  2021-04-12 02:21:42        False             94   \n",
       "\n",
       "                                                  text  retweet_count  \\\n",
       "0    Today Hashtag \\nRetweet \\n\\n#DelhiPolice_Tortu...              0   \n",
       "1    Delhi police is the Black Hand of BJP \\n#Delhi...              0   \n",
       "2    Delhi police is the Black Hand of BJP \\n#Delhi...              0   \n",
       "3    If we lose this fight, first we will become co...              0   \n",
       "4    'Disgraceful' and 'Discourteous' act of Delhi ...              0   \n",
       "..                                                 ...            ...   \n",
       "995  Yesterday some bhakts were saying \"tu kabhi kh...              1   \n",
       "996  If @capt_amarinder and @PunjabPoliceInd had ap...             78   \n",
       "997  Support farmers\\nuse MAXIMUM  hashtag \\n\\n#Del...              8   \n",
       "998  Haryana people giving tough to BJP government....              0   \n",
       "999  All the tactics used by Delhi police to harm t...              1   \n",
       "\n",
       "     retweeted_status  \n",
       "0               False  \n",
       "1               False  \n",
       "2               False  \n",
       "3               False  \n",
       "4               False  \n",
       "..                ...  \n",
       "995             False  \n",
       "996             False  \n",
       "997             False  \n",
       "998             False  \n",
       "999             False  \n",
       "\n",
       "[1000 rows x 10 columns]"
      ]
     },
     "execution_count": 4,
     "metadata": {},
     "output_type": "execute_result"
    }
   ],
   "source": [
    "data=pd.read_csv(\"farmer.csv\")\n",
    "data"
   ]
  },
  {
   "cell_type": "code",
   "execution_count": 5,
   "metadata": {},
   "outputs": [],
   "source": [
    "data=pd.DataFrame(data.text)"
   ]
  },
  {
   "cell_type": "code",
   "execution_count": 6,
   "metadata": {},
   "outputs": [
    {
     "data": {
      "text/html": [
       "<div>\n",
       "<style scoped>\n",
       "    .dataframe tbody tr th:only-of-type {\n",
       "        vertical-align: middle;\n",
       "    }\n",
       "\n",
       "    .dataframe tbody tr th {\n",
       "        vertical-align: top;\n",
       "    }\n",
       "\n",
       "    .dataframe thead th {\n",
       "        text-align: right;\n",
       "    }\n",
       "</style>\n",
       "<table border=\"1\" class=\"dataframe\">\n",
       "  <thead>\n",
       "    <tr style=\"text-align: right;\">\n",
       "      <th></th>\n",
       "      <th>text</th>\n",
       "    </tr>\n",
       "  </thead>\n",
       "  <tbody>\n",
       "    <tr>\n",
       "      <th>0</th>\n",
       "      <td>Today Hashtag \\nRetweet \\n\\n#DelhiPolice_Tortu...</td>\n",
       "    </tr>\n",
       "    <tr>\n",
       "      <th>1</th>\n",
       "      <td>Delhi police is the Black Hand of BJP \\n#Delhi...</td>\n",
       "    </tr>\n",
       "    <tr>\n",
       "      <th>2</th>\n",
       "      <td>Delhi police is the Black Hand of BJP \\n#Delhi...</td>\n",
       "    </tr>\n",
       "    <tr>\n",
       "      <th>3</th>\n",
       "      <td>If we lose this fight, first we will become co...</td>\n",
       "    </tr>\n",
       "    <tr>\n",
       "      <th>4</th>\n",
       "      <td>'Disgraceful' and 'Discourteous' act of Delhi ...</td>\n",
       "    </tr>\n",
       "  </tbody>\n",
       "</table>\n",
       "</div>"
      ],
      "text/plain": [
       "                                                text\n",
       "0  Today Hashtag \\nRetweet \\n\\n#DelhiPolice_Tortu...\n",
       "1  Delhi police is the Black Hand of BJP \\n#Delhi...\n",
       "2  Delhi police is the Black Hand of BJP \\n#Delhi...\n",
       "3  If we lose this fight, first we will become co...\n",
       "4  'Disgraceful' and 'Discourteous' act of Delhi ..."
      ]
     },
     "execution_count": 6,
     "metadata": {},
     "output_type": "execute_result"
    }
   ],
   "source": [
    "data.head()"
   ]
  },
  {
   "cell_type": "code",
   "execution_count": 8,
   "metadata": {},
   "outputs": [
    {
     "data": {
      "text/plain": [
       "'Delhi police is the Black Hand of BJP \\n#DelhiPolice_TorturingFarmers\\n#FarmersProtest https://t.co/N0K2DSR7TR'"
      ]
     },
     "execution_count": 8,
     "metadata": {},
     "output_type": "execute_result"
    }
   ],
   "source": [
    "data.iloc[2,0]"
   ]
  },
  {
   "cell_type": "markdown",
   "metadata": {},
   "source": [
    "# Data Cleaning or Pre-Processing"
   ]
  },
  {
   "cell_type": "markdown",
   "metadata": {},
   "source": [
    "# Step 1 :- Lower case"
   ]
  },
  {
   "cell_type": "code",
   "execution_count": 9,
   "metadata": {},
   "outputs": [],
   "source": [
    "data.text=data.text.str.lower()"
   ]
  },
  {
   "cell_type": "code",
   "execution_count": 10,
   "metadata": {},
   "outputs": [
    {
     "data": {
      "text/plain": [
       "'delhi police is the black hand of bjp \\n#delhipolice_torturingfarmers\\n#farmersprotest https://t.co/n0k2dsr7tr'"
      ]
     },
     "execution_count": 10,
     "metadata": {},
     "output_type": "execute_result"
    }
   ],
   "source": [
    "data.iloc[2,0]"
   ]
  },
  {
   "cell_type": "markdown",
   "metadata": {},
   "source": [
    "# Step 2 :- Punctuation"
   ]
  },
  {
   "cell_type": "code",
   "execution_count": 16,
   "metadata": {},
   "outputs": [
    {
     "data": {
      "text/plain": [
       "'!\"#$%&\\'()*+,-./:;<=>?@[\\\\]^_`{|}~'"
      ]
     },
     "execution_count": 16,
     "metadata": {},
     "output_type": "execute_result"
    }
   ],
   "source": [
    "import string\n",
    "string.punctuation"
   ]
  },
  {
   "cell_type": "code",
   "execution_count": 17,
   "metadata": {},
   "outputs": [],
   "source": [
    "def remove_punctuation(text):\n",
    "    text_nopunt=\"\".join([c for c in text if c not in string.punctuation])\n",
    "    return text_nopunt"
   ]
  },
  {
   "cell_type": "code",
   "execution_count": 18,
   "metadata": {
    "scrolled": true
   },
   "outputs": [
    {
     "data": {
      "text/plain": [
       "'delhi police is the black hand of bjp \\n#delhipolice_torturingfarmers\\n#farmersprotest https://t.co/n0k2dsr7tr'"
      ]
     },
     "execution_count": 18,
     "metadata": {},
     "output_type": "execute_result"
    }
   ],
   "source": [
    "data.iloc[2,0]"
   ]
  },
  {
   "cell_type": "code",
   "execution_count": 19,
   "metadata": {},
   "outputs": [],
   "source": [
    "data['text']=data['text'].apply(lambda x : remove_punctuation(x))"
   ]
  },
  {
   "cell_type": "code",
   "execution_count": 25,
   "metadata": {
    "scrolled": true
   },
   "outputs": [
    {
     "data": {
      "text/plain": [
       "'delhi police is the black hand of bjp \\ndelhipolicetorturingfarmers\\nfarmersprotest httpstconkdsrtr'"
      ]
     },
     "execution_count": 25,
     "metadata": {},
     "output_type": "execute_result"
    }
   ],
   "source": [
    "data.iloc[2,0]"
   ]
  },
  {
   "cell_type": "markdown",
   "metadata": {},
   "source": [
    "# Remove url"
   ]
  },
  {
   "cell_type": "markdown",
   "metadata": {},
   "source": [
    "\n",
    "* \\S == Returns a match where the string DOES NOT contain a white space character ( http / www.)\n",
    "* (+) == one or more occurance"
   ]
  },
  {
   "cell_type": "code",
   "execution_count": 26,
   "metadata": {},
   "outputs": [
    {
     "data": {
      "text/plain": [
       "'delhi police arresting people from punjab that does belong to their jurisdiction is punjab govt sleeping… '"
      ]
     },
     "execution_count": 26,
     "metadata": {},
     "output_type": "execute_result"
    }
   ],
   "source": [
    "data['text'] = data['text'].str.replace(r'http\\S+|www.\\S+','',case=False)\n",
    "data.iloc[991,0]"
   ]
  },
  {
   "cell_type": "markdown",
   "metadata": {},
   "source": [
    "# Remove Number"
   ]
  },
  {
   "cell_type": "code",
   "execution_count": 27,
   "metadata": {},
   "outputs": [
    {
     "data": {
      "text/plain": [
       "'delhi police is the black hand of bjp \\ndelhipolicetorturingfarmers\\nfarmersprotest '"
      ]
     },
     "execution_count": 27,
     "metadata": {},
     "output_type": "execute_result"
    }
   ],
   "source": [
    "data.iloc[2,0]"
   ]
  },
  {
   "cell_type": "markdown",
   "metadata": {},
   "source": [
    "* \\d == Returns a match where the string contains digits (numbers from 0-9)\n",
    "* (+) == one or more occurance"
   ]
  },
  {
   "cell_type": "code",
   "execution_count": 28,
   "metadata": {},
   "outputs": [],
   "source": [
    "data['text'] = data['text'].str.replace('\\d+','')"
   ]
  },
  {
   "cell_type": "code",
   "execution_count": 29,
   "metadata": {
    "scrolled": true
   },
   "outputs": [
    {
     "data": {
      "text/plain": [
       "'delhi police is the black hand of bjp \\ndelhipolicetorturingfarmers\\nfarmersprotest '"
      ]
     },
     "execution_count": 29,
     "metadata": {},
     "output_type": "execute_result"
    }
   ],
   "source": [
    "data.iloc[2,0]"
   ]
  },
  {
   "cell_type": "markdown",
   "metadata": {},
   "source": [
    "\n",
    "# Removing Stop Words"
   ]
  },
  {
   "cell_type": "code",
   "execution_count": null,
   "metadata": {},
   "outputs": [],
   "source": [
    "# Import stopwords with nltk.\n",
    "import nltk\n",
    "nltk.download('stopwords')\n",
    "from nltk.corpus import stopwords\n",
    "stop = stopwords.words('english')"
   ]
  },
  {
   "cell_type": "code",
   "execution_count": null,
   "metadata": {
    "scrolled": true
   },
   "outputs": [],
   "source": [
    "data.iloc[991,0]"
   ]
  },
  {
   "cell_type": "code",
   "execution_count": null,
   "metadata": {},
   "outputs": [],
   "source": [
    "# Exclude stopwords with Python's list comprehension and pandas.DataFrame.apply.\n",
    "data['text'] = data['text'].apply(lambda x: ' '.join([word for word in x.split() \n",
    "                                                      if word not in (stop)]))"
   ]
  },
  {
   "cell_type": "code",
   "execution_count": null,
   "metadata": {
    "scrolled": true
   },
   "outputs": [],
   "source": [
    "data.iloc[991,0]"
   ]
  },
  {
   "cell_type": "markdown",
   "metadata": {},
   "source": [
    "# Common Words"
   ]
  },
  {
   "cell_type": "code",
   "execution_count": null,
   "metadata": {
    "scrolled": false
   },
   "outputs": [],
   "source": [
    "data.iloc[991,0]"
   ]
  },
  {
   "cell_type": "code",
   "execution_count": null,
   "metadata": {},
   "outputs": [],
   "source": [
    "import re\n",
    "nltk.download('words')\n",
    "words = set(nltk.corpus.words.words())\n",
    "# Apply a second round of cleaning\n",
    "def clean_text_round2(text):\n",
    "    '''Get rid of some additional punctuation and non-sensical text that was missed the first time around.'''\n",
    "    text =  re.sub('delhipolicetorturingfarmers|delhipolice|police|delhi', '', text) #remove delhipolice\n",
    "    text =  re.sub('farmer|farmers|farm|farmed','', text) #remove farmers\n",
    "    text =  re.sub('protests|protest','', text) #remove Protest\n",
    "    text =  re.sub(r\"\\b[a-zA-Z]\\b\", \"\", text) ## 1 alphabet like a or s\n",
    "    text =  re.sub(r\"\\b[a-zA-Z][a-zA-Z]\\b\", \"\", text)  ## 2 alphabet like ab or is \n",
    "    text =  \" \".join(w for w in nltk.wordpunct_tokenize(text)  ## this will give you tokens \n",
    "                    if w.lower() in words)  #\n",
    "    \n",
    "    return text\n",
    "round2 = lambda x: clean_text_round2(x)"
   ]
  },
  {
   "cell_type": "code",
   "execution_count": null,
   "metadata": {},
   "outputs": [],
   "source": [
    "# Let's take a look at the updated text\n",
    "#data['text']=data['text'].apply(lambda x : clean_text_round2(x))\n",
    "data = pd.DataFrame(data.text.apply(round2))\n",
    "data.iloc[991,0]"
   ]
  },
  {
   "cell_type": "markdown",
   "metadata": {},
   "source": [
    "# Stemming \n",
    "\n",
    "import nltk\n",
    "#let's import the libraries\n",
    "from nltk.stem.snowball import SnowballStemmer\n",
    "\n",
    "# the most commonly used stemmer\n",
    "ss = SnowballStemmer(\"english\")\n",
    "w_tokenizer = nltk.tokenize.WhitespaceTokenizer()\n",
    "lemmatizer = nltk.stem.WordNetLemmatizer()\n",
    "\n",
    "def SnowballStemmer_text(text):\n",
    "    return [ss.stem(w) for w in w_tokenizer.tokenize(text)]\n",
    "\n",
    "data.head()\n",
    "\n",
    "data['text'] = data.text.apply(lambda x :' '.join(SnowballStemmer_text(x)))\n",
    "data.head()"
   ]
  },
  {
   "cell_type": "markdown",
   "metadata": {},
   "source": [
    "# Lemmatization"
   ]
  },
  {
   "cell_type": "code",
   "execution_count": null,
   "metadata": {},
   "outputs": [],
   "source": [
    "from nltk.stem import WordNetLemmatizer \n",
    "\n",
    "# Init the Wordnet Lemmatizer\n",
    "lemmatizer = WordNetLemmatizer()\n",
    "w_tokenizer = nltk.tokenize.WhitespaceTokenizer()"
   ]
  },
  {
   "cell_type": "code",
   "execution_count": null,
   "metadata": {},
   "outputs": [],
   "source": [
    "def lemmatize_text(text):\n",
    "    return [lemmatizer.lemmatize(w,\"v\") for w in w_tokeniz'\n",
    "            \n",
    "            er.tokenize(text)]"
   ]
  },
  {
   "cell_type": "code",
   "execution_count": null,
   "metadata": {},
   "outputs": [],
   "source": [
    "data.iloc[991,0]"
   ]
  },
  {
   "cell_type": "code",
   "execution_count": null,
   "metadata": {
    "scrolled": false
   },
   "outputs": [],
   "source": [
    "data['text'] = data.text.apply(lambda x :' '.join(lemmatize_text(x)))\n",
    "data.iloc[991,0]"
   ]
  },
  {
   "cell_type": "markdown",
   "metadata": {},
   "source": [
    "# Strip extra whitespace"
   ]
  },
  {
   "cell_type": "code",
   "execution_count": null,
   "metadata": {},
   "outputs": [],
   "source": [
    "data.iloc[991,0]"
   ]
  },
  {
   "cell_type": "code",
   "execution_count": null,
   "metadata": {},
   "outputs": [],
   "source": [
    "data.iloc[991,0]"
   ]
  },
  {
   "cell_type": "markdown",
   "metadata": {},
   "source": [
    "# Term Document Matrix"
   ]
  },
  {
   "cell_type": "code",
   "execution_count": null,
   "metadata": {},
   "outputs": [],
   "source": [
    "# We are going to create a document-term matrix using CountVectorizer, and exclude common English stop words\n",
    "from sklearn.feature_extraction.text import CountVectorizer\n",
    "\n",
    "cv = CountVectorizer(stop_words='english')\n",
    "data_cv = cv.fit_transform(data.text)\n",
    "data_dtm = pd.DataFrame(data_cv.toarray(), columns=cv.get_feature_names())\n",
    "\n",
    "# One of the required inputs is a term-document matrix\n",
    "tdm = data_dtm.transpose()\n",
    "tdm.head()"
   ]
  },
  {
   "cell_type": "code",
   "execution_count": null,
   "metadata": {},
   "outputs": [],
   "source": [
    "tdm['freq'] = tdm.sum(axis=1)\n",
    "tdm.head()"
   ]
  },
  {
   "cell_type": "code",
   "execution_count": null,
   "metadata": {},
   "outputs": [],
   "source": [
    "tdm.reset_index(inplace=True)\n",
    "tdm.head()"
   ]
  },
  {
   "cell_type": "code",
   "execution_count": null,
   "metadata": {},
   "outputs": [],
   "source": [
    "tdm1=tdm[[\"index\",\"freq\"]]\n",
    "tdm1.rename(columns = {'index':'Word'}, inplace = True)\n",
    "tdm1.sort_values(by='freq',ascending=False,inplace=True)\n",
    "tdm1.head(20)"
   ]
  },
  {
   "cell_type": "code",
   "execution_count": null,
   "metadata": {
    "scrolled": false
   },
   "outputs": [],
   "source": [
    "import seaborn as sns\n",
    "w = tdm1[tdm1['freq'] >=50] \n",
    "fg = sns.factorplot(x='Word', y='freq',\n",
    "                        size=6,  aspect=2,\n",
    "                        kind='bar', \n",
    "                        data=w)"
   ]
  },
  {
   "cell_type": "markdown",
   "metadata": {},
   "source": [
    "# Word Cloud "
   ]
  },
  {
   "cell_type": "code",
   "execution_count": null,
   "metadata": {
    "scrolled": true
   },
   "outputs": [],
   "source": [
    "text = \" \".join(review for review in data.text)\n",
    "print (\"There are {} words in the combination of all review.\".format(len(text)))"
   ]
  },
  {
   "cell_type": "code",
   "execution_count": null,
   "metadata": {
    "scrolled": true
   },
   "outputs": [],
   "source": [
    "## collocations=False means try to contro the duplicate keyword and counts as 1\n",
    "# lower max_font_size, change the maximum number of word and lighten the background:\n",
    "\n",
    "from wordcloud import WordCloud, STOPWORDS, ImageColorGenerator\n",
    "import matplotlib.pyplot as plt\n",
    "\n",
    "stopwords = set(STOPWORDS)\n",
    "# Generate a word cloud image\n",
    "wordcloud = WordCloud(stopwords=stopwords,\n",
    "                      background_color=\"white\",\n",
    "                      collocations=False,\n",
    "                       max_words=10).generate(text)\n",
    "\n",
    "# Display the generated image:\n",
    "# the matplotlib way:\n",
    "plt.imshow(wordcloud, interpolation='bilinear')\n",
    "plt.axis(\"off\")\n",
    "plt.show()"
   ]
  },
  {
   "cell_type": "markdown",
   "metadata": {},
   "source": [
    "# Customize Wordcloud"
   ]
  },
  {
   "cell_type": "code",
   "execution_count": null,
   "metadata": {},
   "outputs": [],
   "source": [
    "import os \n",
    "os.chdir(r\"C:\\Users\\nithi\\Downloads\") "
   ]
  },
  {
   "cell_type": "code",
   "execution_count": null,
   "metadata": {
    "scrolled": true
   },
   "outputs": [],
   "source": [
    "# Generate a word cloud image\n",
    "from PIL import Image\n",
    "\n",
    "mask = np.array(Image.open(\"Baby.jpg\"))\n",
    "wordcloud_full = WordCloud(stopwords=stopwords,background_color='White',\n",
    "                           mode=\"RGBA\",\n",
    "                           max_words=30000,\n",
    "                           mask=mask,\n",
    "                           collocations=False).generate(text)\n",
    "\n",
    "# create coloring from image\n",
    "image_colors = ImageColorGenerator(mask)\n",
    "plt.figure(figsize=[10,15])  # facecolor='k' to give round box\n",
    "plt.imshow(wordcloud_full.recolor(color_func=image_colors), interpolation=\"bilinear\")\n",
    "plt.axis(\"off\")\n",
    "plt.show()"
   ]
  },
  {
   "cell_type": "code",
   "execution_count": null,
   "metadata": {
    "scrolled": true
   },
   "outputs": [],
   "source": [
    "# Generate a word cloud image\n",
    "from PIL import Image\n",
    "\n",
    "mask = np.array(Image.open(\"Baby\"))\n",
    "wordcloud_full = WordCloud(stopwords=stopwords,background_color='White',\n",
    "                           mode=\"RGBA\",\n",
    "                           max_words=30000,\n",
    "                           mask=mask,\n",
    "                           collocations=False).generate(text)\n",
    "\n",
    "# create coloring from image\n",
    "image_colors = ImageColorGenerator(mask)\n",
    "plt.figure(figsize=[10,15])  # facecolor='k' to give round box\n",
    "plt.imshow(wordcloud_full.recolor(color_func=image_colors), interpolation=\"bilinear\")\n",
    "plt.axis(\"off\")\n",
    "plt.show()"
   ]
  },
  {
   "cell_type": "code",
   "execution_count": null,
   "metadata": {
    "scrolled": true
   },
   "outputs": [],
   "source": [
    "# Generate a word cloud image\n",
    "from PIL import Image\n",
    "\n",
    "mask = np.array(Image.open(\"Baby.jpg\"))\n",
    "wordcloud_full = WordCloud(stopwords=stopwords,background_color='White',\n",
    "                           mode=\"RGBA\",\n",
    "                           max_words=30000,\n",
    "                           mask=mask,\n",
    "                           collocations=False).generate(text)\n",
    "\n",
    "# create coloring from image\n",
    "image_colors = ImageColorGenerator(mask)\n",
    "plt.figure(figsize=[10,15])  # facecolor='k' to give round box\n",
    "plt.imshow(wordcloud_full.recolor(color_func=image_colors), interpolation=\"bilinear\")\n",
    "plt.axis(\"off\")\n",
    "plt.show()"
   ]
  },
  {
   "cell_type": "markdown",
   "metadata": {},
   "source": [
    "# Finish"
   ]
  },
  {
   "cell_type": "markdown",
   "metadata": {
    "scrolled": false
   },
   "source": [
    "# Generate a word cloud image\n",
    "from PIL import Image\n",
    "\n",
    "mask = np.array(Image.open(\"agriculture.jpg\"))\n",
    "wordcloud_full = WordCloud(stopwords=stopwords,\n",
    "                           background_color=\"white\",\n",
    "                           mode=\"RGB\",\n",
    "                           mask=mask,\n",
    "                           collocations=False).generate(text)\n",
    "\n",
    "# create coloring from image\n",
    "plt.figure(figsize=[10,5])  # facecolor='k' to give round box\n",
    "plt.imshow(wordcloud_full, interpolation=\"bilinear\")\n",
    "plt.axis(\"off\")\n",
    "plt.show()\n",
    "\n",
    "# Generate a word cloud image\n",
    "from PIL import Image\n",
    "\n",
    "mask = np.array(Image.open(\"tree.jpg\"))\n",
    "wordcloud_full = WordCloud(stopwords=stopwords,background_color='White',\n",
    "                           mode=\"RGBA\",\n",
    "                           max_words=30000,\n",
    "                           mask=mask,\n",
    "                           collocations=False).generate(text)\n",
    "\n",
    "# create coloring from image\n",
    "image_colors = ImageColorGenerator(mask)\n",
    "plt.figure(figsize=[10,10])  # facecolor='k' to give round box\n",
    "plt.imshow(wordcloud_full.recolor(color_func=image_colors), interpolation=\"bilinear\")\n",
    "plt.axis(\"off\")\n",
    "plt.show()"
   ]
  },
  {
   "cell_type": "code",
   "execution_count": null,
   "metadata": {},
   "outputs": [],
   "source": [
    "from PIL import Image\n",
    "\n",
    "mask = np.array(Image.open(\"agriculture.jpg\")) wordcloud_full = WordCloud(stopwords=stopwords, background_color=\"white\", mode=\"RGB\", mask=mask, collocations=False).generate(text)"
   ]
  },
  {
   "cell_type": "code",
   "execution_count": null,
   "metadata": {},
   "outputs": [],
   "source": []
  },
  {
   "cell_type": "code",
   "execution_count": null,
   "metadata": {},
   "outputs": [],
   "source": []
  },
  {
   "cell_type": "code",
   "execution_count": null,
   "metadata": {},
   "outputs": [],
   "source": []
  },
  {
   "cell_type": "code",
   "execution_count": null,
   "metadata": {},
   "outputs": [],
   "source": []
  },
  {
   "cell_type": "code",
   "execution_count": null,
   "metadata": {},
   "outputs": [],
   "source": []
  },
  {
   "cell_type": "code",
   "execution_count": null,
   "metadata": {},
   "outputs": [],
   "source": []
  },
  {
   "cell_type": "code",
   "execution_count": null,
   "metadata": {},
   "outputs": [],
   "source": []
  },
  {
   "cell_type": "code",
   "execution_count": null,
   "metadata": {},
   "outputs": [],
   "source": []
  },
  {
   "cell_type": "code",
   "execution_count": null,
   "metadata": {},
   "outputs": [],
   "source": []
  },
  {
   "cell_type": "code",
   "execution_count": null,
   "metadata": {},
   "outputs": [],
   "source": []
  },
  {
   "cell_type": "code",
   "execution_count": null,
   "metadata": {},
   "outputs": [],
   "source": []
  },
  {
   "cell_type": "code",
   "execution_count": null,
   "metadata": {},
   "outputs": [],
   "source": []
  },
  {
   "cell_type": "code",
   "execution_count": null,
   "metadata": {},
   "outputs": [],
   "source": [
    "\n"
   ]
  }
 ],
 "metadata": {
  "kernelspec": {
   "display_name": "Python 3",
   "language": "python",
   "name": "python3"
  },
  "language_info": {
   "codemirror_mode": {
    "name": "ipython",
    "version": 3
   },
   "file_extension": ".py",
   "mimetype": "text/x-python",
   "name": "python",
   "nbconvert_exporter": "python",
   "pygments_lexer": "ipython3",
   "version": "3.8.8"
  }
 },
 "nbformat": 4,
 "nbformat_minor": 4
}
